{
 "cells": [
  {
   "cell_type": "markdown",
   "metadata": {},
   "source": [
    "When we are calculating equilibrium concentrations, we can usually use an ICE table to create a polynomial equation and then solve the resulting equation. However, this method won't always work, particularly when there are multiple reactions occuring that affect the equilibrium concentrations. In those cases we will need to solve multiple equations, which are typically non-linear, simultaneously. In this notebook we will see how to do this, using the solubility of silver chloride as an example. First things, import dependencies:"
   ]
  },
  {
   "cell_type": "code",
   "execution_count": 1,
   "metadata": {
    "collapsed": true
   },
   "outputs": [],
   "source": [
    "import numpy as np\n",
    "import matplotlib.pyplot as plt\n",
    "import scipy.optimize as opt"
   ]
  },
  {
   "cell_type": "markdown",
   "metadata": {},
   "source": [
    "Before we get to the more complicated calculations, let's calculate the solubility of AgCl in pure water. The overall solubility reaction is:  \n",
    "$$\\textrm{AgCl} \\rightarrow \\textrm{Ag}^{+}_{(aq)} + \\textrm{Cl}^{-}_{(aq)} \\qquad \\textrm{K}_{sp} = 1.82 \\textrm{x} 10^{-10}$$  \n",
    "Probably the easiest way to do this is to write a function that can solve the quadratic equation (which I will call quad_solve), and then use it to solve for [Ag$^{+}$]. For this,  solving a quadratic equation is a little bit of overkill, but will be necessary in the next step. As a reminder, a function (whether a math function or computer function) is something that takes some inputs, manipulates them in some way, and then gives back the manipulated results. To write a function in python, we first define it (using the \"def\" keyword), then all the lines that are part of the function are inset 1 tab, then we use the \"return\" key word to tell the function what to give back. Note that the quadratic function solver I've written, below, returns both roots, and so we'll need to be careful when we choose which root we want.\n",
    "\n",
    "From the ICE table we know that [Ag$^{+}$][Cl$^{-}$] = 1.82 x 10$^{-10}$, and [Ag$^{+}$] = [Cl$^{-}$], so [Ag$^{+}$]$^{2}$ = 1.82 x 10$^{-10}$. This means that, for the quadratic equation, a = 1, b = 0, and c = -1.82 x 10$^{-10}$ (you may want to double check this, so you understand where these numbers come from)."
   ]
  },
  {
   "cell_type": "code",
   "execution_count": 2,
   "metadata": {},
   "outputs": [
    {
     "name": "stdout",
     "output_type": "stream",
     "text": [
      "The solubility of AgCl in pure water is 1.35E-05\n"
     ]
    }
   ],
   "source": [
    "def quad_solve(a, b, c):\n",
    "    discrim = np.sqrt(b**2 - 4 * a * c)\n",
    "    sol1 = (-b + discrim)/(2 * a)\n",
    "    sol2 = (-b - discrim)/(2 * a)\n",
    "    return [sol1,sol2]\n",
    "\n",
    "solutions = quad_solve(1,0,-1.82E-10)\n",
    "corrsol=\"{:.2E}\".format(solutions[0])\n",
    "print(\"The solubility of AgCl in pure water is\",corrsol)"
   ]
  },
  {
   "cell_type": "markdown",
   "metadata": {},
   "source": [
    "Now let's take the common ion effect into account and calculate the solubility of AgCl in 0.1M KCl. In this case, the ICE table gives us a = 1, b = 0.1, and c = -1.82 x 10$^{-10}$. Hopefully you can now see why the quadratic solver function is useful. Again, you should make an ICE table to double check my numbers. You should also check both roots to make sure that the one I've chosen, below, is correct."
   ]
  },
  {
   "cell_type": "code",
   "execution_count": 3,
   "metadata": {},
   "outputs": [
    {
     "name": "stdout",
     "output_type": "stream",
     "text": [
      "The solubililty of AgCl in 0.1M KCl is 1.82E-09\n"
     ]
    }
   ],
   "source": [
    "solutions = quad_solve(1,0.1,-1.82E-10)\n",
    "corrsol=\"{:.2E}\".format(solutions[0])\n",
    "print(\"The solubililty of AgCl in 0.1M KCl is\",corrsol)"
   ]
  },
  {
   "cell_type": "markdown",
   "metadata": {},
   "source": [
    "Now we can graph the solubility of AgCl in solutions of KCl as a function of KCl concentration, from 0 to 0.1 M. The easiest way to graph things in python is to create a two-dimensional list of points representing x and y values, similar to what we did in the previous notebook on calibration curves. So I will use the linspace() function from the numpy package to create a set of 100 points evenly distributed between 0.00001 and 0.1 to use as my different KCl concentrations (which will be the x-points), and then use the quadsolve function I wrote above with those x-points to find the solubility of AgCl (which will be the y-points). I can then graph those x,y points with the plot() function from the matlibpyplot package."
   ]
  },
  {
   "cell_type": "code",
   "execution_count": 4,
   "metadata": {},
   "outputs": [
    {
     "data": {
      "image/png": "[encoded data removed]",
      "text/plain": [
       "<matplotlib.figure.Figure at 0x10a793860>"
      ]
     },
     "metadata": {},
     "output_type": "display_data"
    }
   ],
   "source": [
    "datapts = 100\n",
    "\n",
    "xrange = np.linspace(.00001,0.1,num=datapts)\n",
    "yrange = quad_solve(1,xrange,-1.82E-10)\n",
    "\n",
    "plt.plot(xrange, np.log10(yrange[0]), 'ro')\n",
    "plt.title(\"Figure 1 - Silver chloride concentration vs potassium chloride concentration\")\n",
    "plt.xlabel('KCl concentration (moles/liter)')\n",
    "plt.ylabel('Log silver solubility')\n",
    "plt.show()"
   ]
  },
  {
   "cell_type": "markdown",
   "metadata": {},
   "source": [
    "As you can see, the solubility at [KCl] = 0M and at 0.1M are what we calculated above, and the behavior is what we expect for a common ion effect. Unfortunately, this doesn't help us if we need to solve multiple equations simultaneously. So, how do we do that? I'm going to use the fsolve() function, from the scipy package, rather than the quadratic equation I wrote to find [Ag$^{+}$]. This is more work than what I did above, but will pay off in the long-run.\n",
    "\n",
    "The fsolve() function uses an iterative process to find the solution to a set of equations, and works on non-linear equations. For this problem, we have three unknowns ([Ag$^{+}$], [Cl$^{-}$], and [K$^{+}$]), and so we will need to come up with three equations. We will also need to provide fsolve() with a guess for it to start with, and I'm going to use the initial conditions as the guess. To get this working I'm going to start with just one KCl concentration, 0.1 M. Therefore, my initial state is: [Ag$^{+}$] = 0, [Cl$^{-}$] = [K$^{+}$] = 0.1 M. In addition, because fsolve() requires an input that is a function, I need to write a function, which I'll call AgCl_sol, that returns three equations."
   ]
  },
  {
   "cell_type": "code",
   "execution_count": 5,
   "metadata": {},
   "outputs": [
    {
     "name": "stdout",
     "output_type": "stream",
     "text": [
      "At a KCl concentration of 0.1 AgCl solubility is 1.82E-09\n"
     ]
    }
   ],
   "source": [
    "initAg = 0\n",
    "initCl = initK = 0.1\n",
    "\n",
    "initparams = (initAg, initCl, initK)\n",
    "\n",
    "def AgCl_sol(concentrations):\n",
    "    (Ag_conc, Cl_conc, K_conc) = concentrations\n",
    "    \n",
    "    firstEq = Ag_conc * Cl_conc - 1.82E-10\n",
    "    secondEq = Ag_conc + K_conc - Cl_conc\n",
    "    thirdEq = K_conc - K_conc\n",
    "    \n",
    "    return[firstEq, secondEq, thirdEq]\n",
    "\n",
    "solution = opt.fsolve(AgCl_sol,initparams)\n",
    "\n",
    "solubility = \"{:.2E}\".format(solution[0])\n",
    "\n",
    "print(\"At a KCl concentration of\", initK, \"AgCl solubility is\", solubility)"
   ]
  },
  {
   "cell_type": "markdown",
   "metadata": {},
   "source": [
    "Take a look at the AgCl\\_sol() function that I wrote, above. Where does the first equation come from?\n",
    "\n",
    "Where does the second equation come from?\n",
    "\n",
    "What is the third equation telling the computer?\n",
    "\n",
    "You'll note that for all three I manipulated them so that I have an equation that is equal to zero. This is a requirement of the fsolve() function.\n"
   ]
  },
  {
   "cell_type": "markdown",
   "metadata": {},
   "source": [
    "Now I can use the function I created above and the fsolve() function to calculate and graph the solubility of AgCl in KCl, with a KCl concentration ranging from near zero to 0.1 M. I can't start at zero because I'll get weird issues with the function I wrote. Because I'm working over a large range of values, I decided to use x points that are evenly distributed along a log axis, rather than a linear axis, so I am using the logspace() function from the numpy package to create my x range. Otherwise, it's fairly similar to what I did above."
   ]
  },
  {
   "cell_type": "code",
   "execution_count": 6,
   "metadata": {},
   "outputs": [
    {
     "data": {
      "image/png": "[encoded data removed]",
      "text/plain": [
       "<matplotlib.figure.Figure at 0x10a8c3198>"
      ]
     },
     "metadata": {},
     "output_type": "display_data"
    }
   ],
   "source": [
    "logxrange = np.logspace(-5,-1,num=datapts)\n",
    "\n",
    "#Below is my starting points, with Ag+ = 0, K+ and Cl- = x-range\n",
    "guess_array = tuple(zip(np.zeros(datapts),logxrange,logxrange)) \n",
    "\n",
    "out_array = []\n",
    "silver_conc = []\n",
    "chloride_conc = []\n",
    "potassium_conc = []\n",
    "\n",
    "for num in range(0,datapts):\n",
    "    out_array.append(list(opt.fsolve(AgCl_sol,guess_array[num])))\n",
    "    silver_conc.append(out_array[num][0])\n",
    "    chloride_conc.append(out_array[num][1])\n",
    "    potassium_conc.append(out_array[num][2])\n",
    "\n",
    "plt.plot(potassium_conc,np.log10(silver_conc),'ro')\n",
    "plt.title(\"Figure 2 - Silver chloride solubility vs potassium chloride concentration\")\n",
    "plt.xlabel('Log KCl concentration')\n",
    "plt.ylabel('Silver solubility (moles/liter)')\n",
    "plt.show()"
   ]
  },
  {
   "cell_type": "markdown",
   "metadata": {},
   "source": [
    "That was a lot more work, and more challenging than writing a quadratic formula function, for the same answer. So, why did I go through all that work to do it with fsolve? Well, now we can use fsolve for multiple *non-linear* equations that don't reduce to a quadratic. For example, let's add in an additional reaction: \n",
    "\n",
    "$$\\textrm{Ag}^{+}_{(aq)} + \\textrm{2 Cl}^{-}_{(aq)} \\rightarrow \\textrm{AgCl}^{-}_{2(aq)} \\qquad \\textrm{K}_{F} = 1.78 \\textrm{x} 10^{5}$$\n",
    "\n",
    "Now we can  use the fsolve() function to find the solubility of AgCl taking this additional equilibrium into account. First, let's just find the solubility at a single KCl concentration of 0.1M. To do this I will need to write a new function, which I call AgCl\\_sol2(), that returns four equations since there are now four unknowns ([$\\textrm{Ag}^{+}_{(aq)}$], [$\\textrm{Cl}^{-}_{(aq)}$], [$\\textrm{AgCl}^{-}_{2(aq)}$], [$\\textrm{K}^{+}_{(aq)}$]). Note that the total solubility of AgCl will be [$\\textrm{Ag}^{+}_{(aq)}$] + [$\\textrm{AgCl}^{-}_{2(aq)}$]."
   ]
  },
  {
   "cell_type": "code",
   "execution_count": 7,
   "metadata": {},
   "outputs": [
    {
     "name": "stdout",
     "output_type": "stream",
     "text": [
      "At a KCl concentration of 0.1 AgCl solubility is 3.24E-06\n"
     ]
    }
   ],
   "source": [
    "initAg = initAgCl2 = 0\n",
    "initCl = initK = 0.1\n",
    "\n",
    "initparams = (initAg, initAgCl2, initCl, initK)\n",
    "\n",
    "def AgCl_sol2(concentrations):\n",
    "    (Ag_conc2, AgCl2_conc2, Cl_conc2, K_conc2) = concentrations\n",
    "    \n",
    "    firstEq = Ag_conc2 * Cl_conc2 - 1.82E-10\n",
    "    secondEq = AgCl2_conc2 - Ag_conc2 * Cl_conc2 ** 2 * 1.78E5\n",
    "    thirdEq = Ag_conc2 + K_conc2 - Cl_conc2 - AgCl2_conc2\n",
    "    fourthEq = K_conc2 - K_conc2\n",
    "    \n",
    "    return[firstEq, secondEq, thirdEq, fourthEq]\n",
    "\n",
    "solution = opt.fsolve(AgCl_sol2,initparams)\n",
    "\n",
    "solubility = \"{:.2E}\".format(solution[0] + solution[1])\n",
    "\n",
    "print(\"At a KCl concentration of\", initK, \"AgCl solubility is\", solubility)"
   ]
  },
  {
   "cell_type": "markdown",
   "metadata": {},
   "source": [
    "Now that it works at a single KCl concentration, we can combine what we've done so far and graph the silver solubility over a range of KCl concentrations!"
   ]
  },
  {
   "cell_type": "code",
   "execution_count": 8,
   "metadata": {},
   "outputs": [
    {
     "data": {
      "image/png": "[encoded data removed]",
      "text/plain": [
       "<matplotlib.figure.Figure at 0x10da1f160>"
      ]
     },
     "metadata": {},
     "output_type": "display_data"
    }
   ],
   "source": [
    "#Below is my starting points, with Ag+ = AgCl2- = 0, K+ and Cl- = x-range\n",
    "guess_array2 = tuple(zip(np.zeros(datapts),np.zeros(datapts),logxrange,logxrange))\n",
    "\n",
    "out_array2 = []\n",
    "silver_conc2 = []\n",
    "silverchloride_conc2 = []\n",
    "chloride_conc2 = []\n",
    "potassium_conc2 = []\n",
    "\n",
    "for num in range(0,datapts):\n",
    "    out_array2.append(list(opt.fsolve(AgCl_sol2,guess_array2[num])))\n",
    "    silver_conc2.append(out_array2[num][0])\n",
    "    silverchloride_conc2.append(out_array2[num][1])    \n",
    "    chloride_conc2.append(out_array2[num][2])\n",
    "    potassium_conc2.append(out_array2[num][3])\n",
    "\n",
    "total_solubility = np.add(silver_conc2, silverchloride_conc2)\n",
    "\n",
    "plt.plot(potassium_conc2,np.log10(total_solubility),'ro')\n",
    "plt.title(\"Figure 3 - Silver chloride concentration\")\n",
    "plt.xlabel('Log KCl concentration')\n",
    "plt.ylabel('Silver solubility (moles/liter)')\n",
    "plt.show()"
   ]
  },
  {
   "cell_type": "markdown",
   "metadata": {},
   "source": [
    "Now we see very different behavior for the solubility of silver chloride than what we predicted above, behavior that is actually consistent with what is observed experimentally."
   ]
  },
  {
   "cell_type": "markdown",
   "metadata": {
    "collapsed": true
   },
   "source": [
    "Now let's add in an additional equilibrium:\n",
    "\n",
    "$$\\textrm{AgCl}^{-}_{2(aq)} + \\textrm{Cl}^{-}_{(aq)} \\rightarrow \\textrm{AgCl}^{2-}_{3(aq)} \\qquad \\textrm{K}_{F} = 2.34$$\n",
    "\n",
    "Now, let's find the solubility at a single KCl concentration of 0.1 M accounting for all three reactions. In the box below, use the fsolve() function to find the solubility of AgCl taking this third equilibrium into account, similar to the work above.  To do this you will need to write a new function, let's call it AgCl\\_sol3(), that returns five equations, since there are now five unknowns ([$\\textrm{Ag}^{+}_{(aq)}$], [$\\textrm{Cl}^{-}_{(aq)}$], [$\\textrm{AgCl}^{-}_{2(aq)}$], [$\\textrm{AgCl}^{2-}_{3(aq)}$], [$\\textrm{K}^{+}_{(aq)}$]). You'll also need to be a little careful, because the AgCl solubility will now be [$\\textrm{Ag}^{+}_{(aq)}$] + [$\\textrm{AgCl}^{-}_{2(aq)}$] + [$\\textrm{AgCl}^{2-}_{3(aq)}$], but the np.add() function can only take two inputs."
   ]
  },
  {
   "cell_type": "code",
   "execution_count": null,
   "metadata": {
    "collapsed": true
   },
   "outputs": [],
   "source": []
  },
  {
   "cell_type": "markdown",
   "metadata": {},
   "source": [
    "Now that you can find the solubility of AgCl at a single KCl concentration, graph the silver solubility for KCl concentrations from 10$^{-5}$ M to 10$^{-1}$ M, similar to above."
   ]
  },
  {
   "cell_type": "code",
   "execution_count": null,
   "metadata": {
    "collapsed": true
   },
   "outputs": [],
   "source": []
  },
  {
   "cell_type": "markdown",
   "metadata": {},
   "source": [
    "Using the graph you have just produced, *estimate* the KCl concentration that results in the lowest silver solubility:\n"
   ]
  }
 ],
 "metadata": {
  "kernelspec": {
   "display_name": "Python 3",
   "language": "python",
   "name": "python3"
  },
  "language_info": {
   "codemirror_mode": {
    "name": "ipython",
    "version": 3
   },
   "file_extension": ".py",
   "mimetype": "text/x-python",
   "name": "python",
   "nbconvert_exporter": "python",
   "pygments_lexer": "ipython3",
   "version": "3.6.2"
  }
 },
 "nbformat": 4,
 "nbformat_minor": 2
}
